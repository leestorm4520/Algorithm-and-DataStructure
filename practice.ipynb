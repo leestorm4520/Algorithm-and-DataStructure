{
 "cells": [
  {
   "cell_type": "code",
   "execution_count": 16,
   "metadata": {},
   "outputs": [],
   "source": [
    "from collections import defaultdict,Counter\n",
    "ingredient_to_recipe, in_degree=defaultdict(set),Counter()\n",
    "recipes=['bread','sandwich','burger']\n",
    "ingredients=[['bread','flour'],['bread','meat'],['sandwich','meat','bread']]\n",
    "for rcp,ingredient in zip(recipes, ingredients):\n",
    "    for ing in ingredient:\n",
    "        ingredient_to_recipe[ing].add(rcp)\n",
    "    in_degree[rcp] = len(ingredient)"
   ]
  },
  {
   "cell_type": "code",
   "execution_count": 17,
   "metadata": {},
   "outputs": [
    {
     "name": "stdout",
     "output_type": "stream",
     "text": [
      "defaultdict(<class 'set'>, {'bread': {'burger', 'sandwich', 'bread'}, 'flour': {'bread'}, 'meat': {'burger', 'sandwich'}, 'sandwich': {'burger'}})\n",
      "Counter({'burger': 3, 'bread': 2, 'sandwich': 2})\n"
     ]
    }
   ],
   "source": [
    "print(ingredient_to_recipe)\n",
    "print(in_degree)"
   ]
  },
  {
   "cell_type": "code",
   "execution_count": 18,
   "metadata": {},
   "outputs": [
    {
     "name": "stdout",
     "output_type": "stream",
     "text": [
      "flour\n",
      "defaultdict(<class 'set'>, {'bread': {'burger', 'sandwich', 'bread'}, 'meat': {'burger', 'sandwich'}, 'sandwich': {'burger'}})\n",
      "bread\n",
      "meat\n",
      "defaultdict(<class 'set'>, {'bread': {'burger', 'sandwich', 'bread'}, 'sandwich': {'burger'}})\n",
      "burger\n",
      "meat\n",
      "defaultdict(<class 'set'>, {'bread': {'burger', 'sandwich', 'bread'}, 'sandwich': {'burger'}})\n",
      "sandwich\n"
     ]
    }
   ],
   "source": [
    "supplies = [\"yeast\", \"flour\", \"meat\"]\n",
    "ans=[]\n",
    "for ing in supplies:\n",
    "    print(ing)\n",
    "    for rcp in ingredient_to_recipe.pop(ing, set()):\n",
    "        print(ingredient_to_recipe)\n",
    "        print(rcp)\n",
    "        in_degree[rcp] -= 1\n",
    "        if in_degree[rcp] == 0:\n",
    "            supplies.append(rcp)\n",
    "            ans.append(rcp)\n"
   ]
  },
  {
   "cell_type": "code",
   "execution_count": null,
   "metadata": {},
   "outputs": [],
   "source": []
  }
 ],
 "metadata": {
  "kernelspec": {
   "display_name": "Python 3.8.8 ('base')",
   "language": "python",
   "name": "python3"
  },
  "language_info": {
   "codemirror_mode": {
    "name": "ipython",
    "version": 3
   },
   "file_extension": ".py",
   "mimetype": "text/x-python",
   "name": "python",
   "nbconvert_exporter": "python",
   "pygments_lexer": "ipython3",
   "version": "3.8.8"
  },
  "orig_nbformat": 4,
  "vscode": {
   "interpreter": {
    "hash": "239cb7fc9731e4df25ece2866ba3dd451602c54f45b10713ba25f19b8523c020"
   }
  }
 },
 "nbformat": 4,
 "nbformat_minor": 2
}
